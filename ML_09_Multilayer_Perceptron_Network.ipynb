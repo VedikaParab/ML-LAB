{
  "nbformat": 4,
  "nbformat_minor": 0,
  "metadata": {
    "colab": {
      "provenance": []
    },
    "kernelspec": {
      "name": "python3",
      "display_name": "Python 3"
    },
    "language_info": {
      "name": "python"
    }
  },
  "cells": [
    {
      "cell_type": "code",
      "execution_count": null,
      "metadata": {
        "colab": {
          "base_uri": "https://localhost:8080/"
        },
        "id": "SoU46deccBOO",
        "outputId": "69de0519-e9d7-4d8f-a166-d0e951975090"
      },
      "outputs": [
        {
          "output_type": "stream",
          "name": "stdout",
          "text": [
            "Final output after training:\n",
            "[[0.053]\n",
            " [0.952]\n",
            " [0.952]\n",
            " [0.052]]\n"
          ]
        }
      ],
      "source": [
        "import numpy as np\n",
        "\n",
        "# Activation function (step or sigmoid)\n",
        "def sigmoid(x):\n",
        "    return 1 / (1 + np.exp(-x))\n",
        "\n",
        "# Derivative of sigmoid (for backpropagation)\n",
        "def sigmoid_derivative(x):\n",
        "    return x * (1 - x)\n",
        "\n",
        "# Input dataset for XOR\n",
        "inputs = np.array([\n",
        "    [0, 0],\n",
        "    [0, 1],\n",
        "    [1, 0],\n",
        "    [1, 1]\n",
        "])\n",
        "\n",
        "# Expected outputs\n",
        "expected_output = np.array([[0], [1], [1], [0]])\n",
        "\n",
        "# Initialize weights and biases randomly\n",
        "np.random.seed(42)\n",
        "input_layer_neurons = 2\n",
        "hidden_layer_neurons = 2\n",
        "output_neurons = 1\n",
        "\n",
        "# Random weights and biases\n",
        "wh = np.random.uniform(size=(input_layer_neurons, hidden_layer_neurons))\n",
        "bh = np.random.uniform(size=(1, hidden_layer_neurons))\n",
        "wout = np.random.uniform(size=(hidden_layer_neurons, output_neurons))\n",
        "bout = np.random.uniform(size=(1, output_neurons))\n",
        "\n",
        "# Learning rate\n",
        "lr = 0.1\n",
        "\n",
        "# Training process\n",
        "for epoch in range(10000):\n",
        "    # Forward Propagation\n",
        "    hidden_input = np.dot(inputs, wh) + bh\n",
        "    hidden_output = sigmoid(hidden_input)\n",
        "\n",
        "    final_input = np.dot(hidden_output, wout) + bout\n",
        "    output = sigmoid(final_input)\n",
        "\n",
        "    # Backpropagation\n",
        "    error = expected_output - output\n",
        "    d_output = error * sigmoid_derivative(output)\n",
        "\n",
        "    error_hidden = d_output.dot(wout.T)\n",
        "    d_hidden = error_hidden * sigmoid_derivative(hidden_output)\n",
        "\n",
        "    # Update weights and biases\n",
        "    wout += hidden_output.T.dot(d_output) * lr\n",
        "    bout += np.sum(d_output, axis=0, keepdims=True) * lr\n",
        "    wh += inputs.T.dot(d_hidden) * lr\n",
        "    bh += np.sum(d_hidden, axis=0, keepdims=True) * lr\n",
        "\n",
        "# Final Output\n",
        "print(\"Final output after training:\")\n",
        "print(np.round(output, 3))"
      ]
    },
    {
      "cell_type": "code",
      "source": [],
      "metadata": {
        "id": "t5uf-4dvci1m"
      },
      "execution_count": null,
      "outputs": []
    }
  ]
}
