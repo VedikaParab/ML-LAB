{
  "nbformat": 4,
  "nbformat_minor": 0,
  "metadata": {
    "colab": {
      "provenance": []
    },
    "kernelspec": {
      "name": "python3",
      "display_name": "Python 3"
    },
    "language_info": {
      "name": "python"
    }
  },
  "cells": [
    {
      "cell_type": "code",
      "execution_count": null,
      "metadata": {
        "colab": {
          "base_uri": "https://localhost:8080/"
        },
        "id": "Fo9F1-LMi6Py",
        "outputId": "3cad760b-9f2e-46fb-d103-cd1c4c91f479"
      },
      "outputs": [
        {
          "output_type": "stream",
          "name": "stdout",
          "text": [
            "Initial weights: [[0. 0.]]  Bias: 0\n",
            "After sample 1: w = [[1. 1.]], b = [1]\n",
            "After sample 2: w = [[0. 2.]], b = [0]\n",
            "After sample 3: w = [[1. 1.]], b = [-1]\n",
            "After sample 4: w = [[2. 2.]], b = [-2]\n",
            "\n",
            "Testing after Hebbian Learning:\n",
            "Input: [1 1], Output: 1.0\n",
            "Input: [ 1 -1], Output: -1.0\n",
            "Input: [-1  1], Output: -1.0\n",
            "Input: [-1 -1], Output: -1.0\n"
          ]
        }
      ],
      "source": [
        "import numpy as np\n",
        "\n",
        "# Step 1: Define input and output (AND gate truth table)\n",
        "X = np.array([\n",
        "    [1, 1],\n",
        "    [1, -1],\n",
        "    [-1, 1],\n",
        "    [-1, -1]\n",
        "])\n",
        "\n",
        "# Desired output for AND gate\n",
        "Y = np.array([[1], [-1], [-1], [-1]])\n",
        "\n",
        "# Step 2: Initialize weights and bias\n",
        "w = np.zeros((2, 1))\n",
        "b = 0\n",
        "\n",
        "# Step 3: Hebbian Learning Rule\n",
        "print(\"Initial weights:\", w.T, \" Bias:\", b)\n",
        "for i in range(len(X)):\n",
        "    w = w + (Y[i] * X[i]).reshape(2, 1)\n",
        "    b = b + Y[i]\n",
        "    print(f\"After sample {i+1}: w = {w.T}, b = {b}\")\n",
        "\n",
        "# Step 4: Test the learned neuron\n",
        "print(\"\\nTesting after Hebbian Learning:\")\n",
        "for i in range(len(X)):\n",
        "    y_pred = np.sign(np.dot(X[i], w) + b)\n",
        "    print(f\"Input: {X[i]}, Output: {y_pred[0]}\")"
      ]
    }
  ]
}